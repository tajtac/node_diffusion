{
 "cells": [
  {
   "cell_type": "code",
   "execution_count": 8,
   "metadata": {},
   "outputs": [
    {
     "name": "stdout",
     "output_type": "stream",
     "text": [
      "/Users/vt/Library/CloudStorage/OneDrive-purdue.edu/Research/NODE_diffusion/fem/AtrialMFClass\n"
     ]
    }
   ],
   "source": [
    "%cd AtrialMFClass"
   ]
  },
  {
   "cell_type": "code",
   "execution_count": 12,
   "metadata": {},
   "outputs": [],
   "source": [
    "import numpy as onp\n",
    "import jax.numpy as np\n",
    "from jax import random, vmap, lax\n",
    "from jax.config import config\n",
    "from jax.scipy.special import expit as sigmoid\n",
    "config.update(\"jax_enable_x64\", True)\n",
    "\n",
    "import matplotlib.pyplot as plt\n",
    "\n",
    "from scipy.linalg import eigh\n",
    "\n",
    "\n",
    "from jaxbo.mcmc_models import ReimannianMFGPclassifierFourier, ReimannianGPclassifierFourier\n",
    "from jaxbo.input_priors import uniform_prior\n",
    "\n",
    "from sklearn.metrics import balanced_accuracy_score\n",
    "\n",
    "from utils.Mesh import Mesh\n",
    "import meshio\n",
    "onp.random.seed(1234)"
   ]
  },
  {
   "cell_type": "code",
   "execution_count": 17,
   "metadata": {},
   "outputs": [],
   "source": [
    "with open('../PurdueP/Pmesh_ordered.txt','r') as f:\n",
    "    st = f.read()\n",
    "\n",
    "nodes_st, els_st = st.split('Elements')\n",
    "\n",
    "nodes = list(map(lambda s: s.split(' '), nodes_st.split('\\n')[2:-1]))\n",
    "nodes = [[float(n[0]), float(n[1]), 0.0] for n in nodes]\n",
    "\n",
    "els = list(map(lambda s: s.split(' '), els_st.split('\\n')[2:-1]))\n",
    "els = [[int(e) - 1 for e in el] for el in els]\n",
    "\n",
    "\n",
    "m = Mesh(verts = nodes, connectivity = els)"
   ]
  },
  {
   "cell_type": "code",
   "execution_count": 18,
   "metadata": {},
   "outputs": [
    {
     "name": "stdout",
     "output_type": "stream",
     "text": [
      "Computing Laplacian\n",
      "Computing eigen values\n"
     ]
    }
   ],
   "source": [
    "print('Computing Laplacian')\n",
    "K, M = m.computeLaplacian()\n",
    "M *= 2 # bug in mass matrix\n",
    "print('Computing eigen values')\n",
    "eigvals, eigvecs = eigh(K,M)\n",
    "\n",
    "rng_key = random.PRNGKey(123)\n",
    "\n",
    "n_eigs = m.verts.shape[0]\n",
    "\n",
    "eigpairs = (np.array(eigvals[:n_eigs]), np.array(eigvecs[:,:n_eigs]).T)\n",
    "\n",
    "D = 1\n",
    "lb = 0.0*np.ones(D)\n",
    "ub = 1.0*np.ones(D)\n",
    "bounds = {'lb': lb, 'ub': ub}\n",
    "p_x = uniform_prior(lb, np.ones(D)*m.verts.shape[0])\n",
    "\n",
    "\n",
    "options = {'kernel': 'RBF',\n",
    "           'criterion': 'LW_CLSF',\n",
    "           'input_prior': p_x,\n",
    "           'kappa': 1.0,\n",
    "           'nIter': 0}\n",
    "mcmc_settings = {'num_warmup': 500,\n",
    "                 'num_samples': 500,\n",
    "                 'num_chains': 1,\n",
    "                 'target_accept_prob': 0.9}\n",
    "gp_model = ReimannianGPclassifierFourier(options, eigpairs)"
   ]
  },
  {
   "cell_type": "code",
   "execution_count": 19,
   "metadata": {},
   "outputs": [],
   "source": [
    "length = 0.3\n",
    "S = gp_model.eval_S(length, 1.0)\n",
    "ws = random.normal(random.PRNGKey(0), shape = (n_eigs,998*31))\n",
    "f = np.dot(gp_model.eigenfunctions,ws*np.sqrt(S)[:,None,None])\n"
   ]
  },
  {
   "cell_type": "code",
   "execution_count": null,
   "metadata": {},
   "outputs": [],
   "source": [
    "plt.tricontourf(m.verts[:,0], m.verts[:,1], m.connectivity, f[:,2])\n",
    "#plt.triplot(m.verts[:,0], m.verts[:,1], m.connectivity)\n",
    "plt.colorbar()"
   ]
  }
 ],
 "metadata": {
  "kernelspec": {
   "display_name": "Python 3",
   "language": "python",
   "name": "python3"
  },
  "language_info": {
   "codemirror_mode": {
    "name": "ipython",
    "version": 3
   },
   "file_extension": ".py",
   "mimetype": "text/x-python",
   "name": "python",
   "nbconvert_exporter": "python",
   "pygments_lexer": "ipython3",
   "version": "3.9.16"
  },
  "orig_nbformat": 4
 },
 "nbformat": 4,
 "nbformat_minor": 2
}
